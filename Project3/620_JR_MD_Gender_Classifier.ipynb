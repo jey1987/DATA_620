{
 "cells": [
  {
   "cell_type": "markdown",
   "metadata": {},
   "source": [
    "<h2>DATA 620 - Project 3</h2>\n",
    "<h3>Name Gender Classifier</h3>\n",
    "\n",
    "<h3>Team : Mohamed Thasleem, Kalikul Zaman and Jeyaraman Ramalingam</h3>"
   ]
  },
  {
   "cell_type": "markdown",
   "metadata": {},
   "source": [
    "<h3>Assignment</h3>\n",
    "\n",
    "Using any of the three classifiers described in chapter 6 of Natural Language Processing with Python, and any features you can think of, build the best name gender classifier you can.\n",
    "\n",
    "Begin by splitting the Names Corpus into three subsets: 500 words for the test set, 500 words for the dev-test set, and the remaining 6900 words for the training set. Then, starting with the example name gender classifier, make incremental improvements. Use the dev-test set to check your progress. Once you are satisfied with your classifier, check its final performance on the test set.\n",
    "\n",
    "How does the performance on the test set compare to the performance on the dev-test set? Is this what you'd expect?"
   ]
  },
  {
   "cell_type": "markdown",
   "metadata": {},
   "source": [
    "<h3>Libraries</h3>"
   ]
  },
  {
   "cell_type": "code",
   "execution_count": 13,
   "metadata": {},
   "outputs": [],
   "source": [
    "import nltk\n",
    "import pandas as pd\n",
    "import random\n",
    "from nltk.corpus import names\n",
    "from nltk.classify import apply_features\n",
    "import collections\n",
    "import nltk.metrics\n",
    "from nltk.metrics import precision,recall,f_measure\n",
    "import numpy as np\n",
    "import matplotlib.pyplot as plt"
   ]
  },
  {
   "cell_type": "markdown",
   "metadata": {},
   "source": [
    "<h3>Data Preperation</h3>\n",
    "\n",
    "Import names data from NLTK library files males and females, adding them to make an single dataset and apply random shuffling to names"
   ]
  },
  {
   "cell_type": "code",
   "execution_count": 14,
   "metadata": {},
   "outputs": [],
   "source": [
    "#set seed for recreation\n",
    "random.seed(620)\n",
    "\n",
    "#get data from NLTK library files\n",
    "names = ([(name, 'male') for name in names.words('male.txt')] +\n",
    "[(name, 'female') for name in names.words('female.txt')])\n",
    "\n",
    "# and to make sure we are sampling across all the names\n",
    "# we shuffle them so they aren't alphabetical\n",
    "random.shuffle(names)"
   ]
  },
  {
   "cell_type": "markdown",
   "metadata": {},
   "source": [
    "<h4>Sample Data</h4>"
   ]
  },
  {
   "cell_type": "code",
   "execution_count": 15,
   "metadata": {},
   "outputs": [
    {
     "data": {
      "text/plain": [
       "[('Christie', 'female'),\n",
       " ('Tibold', 'male'),\n",
       " ('Chet', 'male'),\n",
       " ('Alyss', 'female'),\n",
       " ('Eunice', 'female'),\n",
       " ('Mehetabel', 'female'),\n",
       " ('Marj', 'female'),\n",
       " ('Adam', 'male'),\n",
       " ('Natka', 'female'),\n",
       " ('Sarene', 'female')]"
      ]
     },
     "execution_count": 15,
     "metadata": {},
     "output_type": "execute_result"
    }
   ],
   "source": [
    "#list names\n",
    "names[0:10]"
   ]
  },
  {
   "cell_type": "markdown",
   "metadata": {},
   "source": [
    "<h4>Data Stats</h4>"
   ]
  },
  {
   "cell_type": "code",
   "execution_count": 16,
   "metadata": {
    "scrolled": true
   },
   "outputs": [
    {
     "name": "stdout",
     "output_type": "stream",
     "text": [
      "Total count:  7944\n"
     ]
    }
   ],
   "source": [
    "print(\"Total count: \" , len(names))"
   ]
  },
  {
   "cell_type": "markdown",
   "metadata": {},
   "source": [
    "Splitting the dataset based on the below condition\n",
    "\n",
    "500 words for the test set, 500 words for the dev-test set, and the remaining 6900 + words for the training set"
   ]
  },
  {
   "cell_type": "code",
   "execution_count": 17,
   "metadata": {},
   "outputs": [
    {
     "name": "stdout",
     "output_type": "stream",
     "text": [
      "test set:  500\n",
      "dev test set:  500\n",
      "train set:  6944\n"
     ]
    }
   ],
   "source": [
    "test_set = names[:500]\n",
    "print(\"test set: \" , len(test_set))\n",
    "devtest_set = names[500:1000] \n",
    "print(\"dev test set: \" , len(devtest_set))\n",
    "train_set = names[1000:]\n",
    "print(\"train set: \" , len(train_set))"
   ]
  },
  {
   "cell_type": "markdown",
   "metadata": {},
   "source": [
    "<h3>Feature Set - Gender</h3>\n",
    "\n",
    "Setting up the feature set to predict the outpur variable, it is an individual measurable property or characteristic of a phenomenon being observed, In our case the deature will be different pattern/characteristics of the name"
   ]
  },
  {
   "cell_type": "code",
   "execution_count": 18,
   "metadata": {},
   "outputs": [],
   "source": [
    "def gender_features(name):\n",
    "    features = {}\n",
    "    features[\"firstletter\"] = name[0].lower()\n",
    "    features[\"lastletter\"] = name[-1].lower()\n",
    "    features[\"suffix2\"]= name[-2:].lower()\n",
    "    features[\"preffix2\"]= name[:2].lower()\n",
    "    for letter in 'aeiou':\n",
    "        features[\"count(%s)\" % letter] = name.lower().count(letter)\n",
    "        features[\"has(%s)\" % letter] = (letter in name.lower())\n",
    "    return features"
   ]
  },
  {
   "cell_type": "code",
   "execution_count": 19,
   "metadata": {},
   "outputs": [],
   "source": [
    "featuresets = [(gender_features(n), g) for (n,g) in names]"
   ]
  },
  {
   "cell_type": "code",
   "execution_count": 20,
   "metadata": {},
   "outputs": [],
   "source": [
    "train_set_fe = featuresets[1000:]\n",
    "test_set_fe =featuresets[:500]\n",
    "devtest_set_fe =featuresets[500:1000]"
   ]
  },
  {
   "cell_type": "markdown",
   "metadata": {},
   "source": [
    "<h3>Naive Baiyer Classifier</h3>\n",
    "\n",
    "Applying the Naive Baiyer Classifier to find out the accuracy of the prediction"
   ]
  },
  {
   "cell_type": "code",
   "execution_count": 21,
   "metadata": {
    "scrolled": true
   },
   "outputs": [],
   "source": [
    "classifier = nltk.NaiveBayesClassifier.train(train_set_fe)"
   ]
  },
  {
   "cell_type": "markdown",
   "metadata": {},
   "source": [
    "<h4>Calculate Metrics: {Accuracy, Recall, Precision, F_Measure}</h4>"
   ]
  },
  {
   "cell_type": "code",
   "execution_count": 22,
   "metadata": {},
   "outputs": [],
   "source": [
    "refsets = collections.defaultdict(set)\n",
    "testsets = collections.defaultdict(set)\n",
    " \n",
    "for i, (feats, label) in enumerate(train_set_fe):\n",
    "    refsets[label].add(i)\n",
    "    observed = classifier.classify(feats)\n",
    "    testsets[observed].add(i)\n",
    "\n",
    "accuracy_train = nltk.classify.accuracy(classifier, train_set_fe)\n",
    "avg_precision_train = (precision(refsets['male'], testsets['male'])+precision(refsets['male'], testsets['female']))/2\n",
    "avg_recall_train = (recall(refsets['male'], testsets['male'])+recall(refsets['male'], testsets['female']))/2\n",
    "avg_f_measure_train = (f_measure(refsets['male'], testsets['male'])+f_measure(refsets['male'], testsets['female']))/2\n",
    "\n",
    "\n",
    "refsets = collections.defaultdict(set)\n",
    "testsets = collections.defaultdict(set)\n",
    " \n",
    "for i, (feats, label) in enumerate(test_set_fe):\n",
    "    refsets[label].add(i)\n",
    "    observed = classifier.classify(feats)\n",
    "    testsets[observed].add(i)\n",
    "\n",
    "accuracy_test = nltk.classify.accuracy(classifier, test_set_fe)\n",
    "avg_precision_test = (precision(refsets['male'], testsets['male'])+precision(refsets['male'], testsets['female']))/2\n",
    "avg_recall_test = (recall(refsets['male'], testsets['male'])+recall(refsets['male'], testsets['female']))/2\n",
    "avg_f_measure_test = (f_measure(refsets['male'], testsets['male'])+f_measure(refsets['male'], testsets['female']))/2\n",
    "\n",
    "\n",
    "for i, (feats, label) in enumerate(devtest_set_fe):\n",
    "    refsets[label].add(i)\n",
    "    observed = classifier.classify(feats)\n",
    "    testsets[observed].add(i)\n",
    "\n",
    "accuracy_dev = nltk.classify.accuracy(classifier, devtest_set_fe)\n",
    "avg_precision_dev = (precision(refsets['male'], testsets['male'])+precision(refsets['male'], testsets['female']))/2\n",
    "avg_recall_dev = (recall(refsets['male'], testsets['male'])+recall(refsets['male'], testsets['female']))/2\n",
    "avg_f_measure_dev = (f_measure(refsets['male'], testsets['male'])+f_measure(refsets['male'], testsets['female']))/2\n",
    "\n",
    "accuracy_naive_final = [accuracy_train,accuracy_test,accuracy_dev]\n",
    "precision_naive_final = [avg_precision_train,avg_precision_test,avg_precision_dev]\n",
    "recall_naive_final = [avg_recall_train,avg_recall_test,avg_recall_dev]\n",
    "f_measure_naive_final = [avg_f_measure_train,avg_f_measure_test,avg_f_measure_dev]\n",
    "\n",
    "naive_final_train = [accuracy_train,avg_precision_train,avg_recall_train,avg_f_measure_train]\n",
    "naive_final_test = [accuracy_test,avg_precision_test,avg_recall_test,avg_f_measure_test]\n",
    "naive_final_dev = [accuracy_dev,avg_precision_dev,avg_recall_dev,avg_f_measure_dev]\n",
    "naive_combined = {'Accuracy':accuracy_naive_final,'Precision':precision_naive_final,'Recall':recall_naive_final,'F_Measure':f_measure_naive_final}\n",
    "\n",
    "df_naive = pd.DataFrame(naive_combined,index=['Train','Test','Dev'],columns=['Accuracy','Precision','Recall','F_Measure'])"
   ]
  },
  {
   "cell_type": "markdown",
   "metadata": {},
   "source": [
    "<h4>Naive Baiyer features list</h4>"
   ]
  },
  {
   "cell_type": "code",
   "execution_count": 23,
   "metadata": {
    "scrolled": true
   },
   "outputs": [
    {
     "name": "stdout",
     "output_type": "stream",
     "text": [
      "---------Naive Bayes Classifier Metrics---------\n",
      "       Accuracy  Precision    Recall  F_Measure\n",
      "Train  0.810916   0.437817  0.500000   0.463358\n",
      "Test   0.802000   0.419760  0.500000   0.454170\n",
      "Dev    0.778000   0.622769  0.794014   0.695505\n",
      "Most Informative Features\n",
      "                 suffix2 = 'na'           female : male   =     93.8 : 1.0\n",
      "                 suffix2 = 'la'           female : male   =     71.8 : 1.0\n",
      "                 suffix2 = 'ia'           female : male   =     52.5 : 1.0\n",
      "              lastletter = 'a'            female : male   =     34.6 : 1.0\n",
      "                 suffix2 = 'sa'           female : male   =     32.6 : 1.0\n",
      "                 suffix2 = 'rd'             male : female =     29.4 : 1.0\n",
      "              lastletter = 'f'              male : female =     28.5 : 1.0\n",
      "              lastletter = 'k'              male : female =     28.0 : 1.0\n",
      "                 suffix2 = 'us'             male : female =     27.5 : 1.0\n",
      "                 suffix2 = 'ra'           female : male   =     24.2 : 1.0\n",
      "                 suffix2 = 'ta'           female : male   =     24.1 : 1.0\n",
      "                 suffix2 = 'io'             male : female =     23.6 : 1.0\n",
      "                 suffix2 = 'ld'             male : female =     23.4 : 1.0\n",
      "                 suffix2 = 'rt'             male : female =     23.3 : 1.0\n",
      "                 suffix2 = 'do'             male : female =     22.5 : 1.0\n",
      "                preffix2 = 'hu'             male : female =     17.1 : 1.0\n",
      "                 suffix2 = 'os'             male : female =     17.0 : 1.0\n",
      "              lastletter = 'v'              male : female =     16.2 : 1.0\n",
      "              lastletter = 'p'              male : female =     15.1 : 1.0\n",
      "                 suffix2 = 'ka'           female : male   =     14.4 : 1.0\n"
     ]
    }
   ],
   "source": [
    "print(\"---------Naive Bayes Classifier Metrics---------\")\n",
    "print(df_naive)\n",
    "\n",
    "# Show important features\n",
    "classifier.show_most_informative_features(20)"
   ]
  },
  {
   "cell_type": "markdown",
   "metadata": {},
   "source": [
    "<h4>Compare with dev test data for error rate - NB</h4>"
   ]
  },
  {
   "cell_type": "code",
   "execution_count": 24,
   "metadata": {},
   "outputs": [],
   "source": [
    "# Check errors\n",
    "errors = []\n",
    "for (name, tag) in devtest_set:\n",
    "    guess = classifier.classify(gender_features(name))\n",
    "    if guess != tag:\n",
    "        errors.append( (tag, guess, name) )"
   ]
  },
  {
   "cell_type": "code",
   "execution_count": 25,
   "metadata": {},
   "outputs": [
    {
     "name": "stdout",
     "output_type": "stream",
     "text": [
      "correct=female   guess=male     name=Aurore                        \n",
      "correct=female   guess=male     name=Austin                        \n",
      "correct=female   guess=male     name=Barbe                         \n",
      "correct=female   guess=male     name=Barby                         \n",
      "correct=female   guess=male     name=Bebe                          \n",
      "correct=female   guess=male     name=Bird                          \n",
      "correct=female   guess=male     name=Birgit                        \n",
      "correct=female   guess=male     name=Bunnie                        \n",
      "correct=female   guess=male     name=Cameo                         \n",
      "correct=female   guess=male     name=Caron                         \n",
      "correct=female   guess=male     name=Clemmy                        \n",
      "correct=female   guess=male     name=Cloris                        \n",
      "correct=female   guess=male     name=Coleen                        \n",
      "correct=female   guess=male     name=Colleen                       \n",
      "correct=female   guess=male     name=Corliss                       \n",
      "correct=female   guess=male     name=Cybill                        \n",
      "correct=female   guess=male     name=Cynthy                        \n",
      "correct=female   guess=male     name=Debor                         \n",
      "correct=female   guess=male     name=Devon                         \n",
      "correct=female   guess=male     name=Dian                          \n",
      "correct=female   guess=male     name=Dorian                        \n",
      "correct=female   guess=male     name=Dory                          \n",
      "correct=female   guess=male     name=Eddy                          \n",
      "correct=female   guess=male     name=Eden                          \n",
      "correct=female   guess=male     name=Elonore                       \n",
      "correct=female   guess=male     name=Gabriel                       \n",
      "correct=female   guess=male     name=Gabriell                      \n",
      "correct=female   guess=male     name=Gilly                         \n",
      "correct=female   guess=male     name=Gretchen                      \n",
      "correct=female   guess=male     name=Hally                         \n",
      "correct=female   guess=male     name=Harriet                       \n",
      "correct=female   guess=male     name=Hildy                         \n",
      "correct=female   guess=male     name=Jean                          \n",
      "correct=female   guess=male     name=Joell                         \n",
      "correct=female   guess=male     name=Kipp                          \n",
      "correct=female   guess=male     name=Lauren                        \n",
      "correct=female   guess=male     name=Manon                         \n",
      "correct=female   guess=male     name=Marlo                         \n",
      "correct=female   guess=male     name=Megan                         \n",
      "correct=female   guess=male     name=Michell                       \n",
      "correct=female   guess=male     name=Milicent                      \n",
      "correct=female   guess=male     name=Monah                         \n",
      "correct=female   guess=male     name=Nike                          \n",
      "correct=female   guess=male     name=Noel                          \n",
      "correct=female   guess=male     name=Noreen                        \n",
      "correct=female   guess=male     name=Pegeen                        \n",
      "correct=female   guess=male     name=Phillis                       \n",
      "correct=female   guess=male     name=Piper                         \n",
      "correct=female   guess=male     name=Prudy                         \n",
      "correct=female   guess=male     name=Robbyn                        \n",
      "correct=female   guess=male     name=Rory                          \n",
      "correct=female   guess=male     name=Rosario                       \n",
      "correct=female   guess=male     name=Roselin                       \n",
      "correct=female   guess=male     name=Roze                          \n",
      "correct=female   guess=male     name=Sal                           \n",
      "correct=female   guess=male     name=Sammy                         \n",
      "correct=female   guess=male     name=Sandy                         \n",
      "correct=female   guess=male     name=Scarlet                       \n",
      "correct=female   guess=male     name=Shanon                        \n",
      "correct=female   guess=male     name=Shay                          \n",
      "correct=female   guess=male     name=Shell                         \n",
      "correct=female   guess=male     name=Sher                          \n",
      "correct=female   guess=male     name=Stormie                       \n",
      "correct=female   guess=male     name=Sue                           \n",
      "correct=female   guess=male     name=Tabby                         \n",
      "correct=female   guess=male     name=Theo                          \n",
      "correct=female   guess=male     name=Tiff                          \n",
      "correct=female   guess=male     name=Toby                          \n",
      "correct=female   guess=male     name=Torie                         \n",
      "correct=female   guess=male     name=Trix                          \n",
      "correct=female   guess=male     name=Wileen                        \n",
      "correct=female   guess=male     name=Willie                        \n",
      "correct=female   guess=male     name=Yetty                         \n",
      "correct=male     guess=female   name=Abbie                         \n",
      "correct=male     guess=female   name=Adrian                        \n",
      "correct=male     guess=female   name=Alastair                      \n",
      "correct=male     guess=female   name=Aldis                         \n",
      "correct=male     guess=female   name=Andre                         \n",
      "correct=male     guess=female   name=Bealle                        \n",
      "correct=male     guess=female   name=Blaine                        \n",
      "correct=male     guess=female   name=Chrissy                       \n",
      "correct=male     guess=female   name=Craig                         \n",
      "correct=male     guess=female   name=Darren                        \n",
      "correct=male     guess=female   name=Dewey                         \n",
      "correct=male     guess=female   name=Dmitri                        \n",
      "correct=male     guess=female   name=Emile                         \n",
      "correct=male     guess=female   name=Evelyn                        \n",
      "correct=male     guess=female   name=Felipe                        \n",
      "correct=male     guess=female   name=Flinn                         \n",
      "correct=male     guess=female   name=Georgia                       \n",
      "correct=male     guess=female   name=Glenn                         \n",
      "correct=male     guess=female   name=Ivan                          \n",
      "correct=male     guess=female   name=Jamie                         \n",
      "correct=male     guess=female   name=Jedediah                      \n",
      "correct=male     guess=female   name=Jefferey                      \n",
      "correct=male     guess=female   name=Jessee                        \n",
      "correct=male     guess=female   name=Jodie                         \n",
      "correct=male     guess=female   name=Lindsay                       \n",
      "correct=male     guess=female   name=Lorrie                        \n",
      "correct=male     guess=female   name=Lynn                          \n",
      "correct=male     guess=female   name=Micky                         \n",
      "correct=male     guess=female   name=Partha                        \n",
      "correct=male     guess=female   name=Pepe                          \n",
      "correct=male     guess=female   name=Perceval                      \n",
      "correct=male     guess=female   name=Rabi                          \n",
      "correct=male     guess=female   name=Sayre                         \n",
      "correct=male     guess=female   name=Stearne                       \n",
      "correct=male     guess=female   name=Tammie                        \n",
      "correct=male     guess=female   name=Terri                         \n",
      "correct=male     guess=female   name=Tremayne                      \n",
      "correct=male     guess=female   name=Waite                         \n"
     ]
    }
   ],
   "source": [
    "for (tag, guess, name) in sorted(errors): # doctest: +ELLIPSIS +NORMALIZE_WHITESPACE\n",
    "    print('correct=%-8s guess=%-8s name=%-30s' % (tag, guess, name))"
   ]
  },
  {
   "cell_type": "markdown",
   "metadata": {},
   "source": [
    "<h4>Result of Unmatched Error Count - NB</h4>"
   ]
  },
  {
   "cell_type": "code",
   "execution_count": 26,
   "metadata": {},
   "outputs": [
    {
     "name": "stdout",
     "output_type": "stream",
     "text": [
      "Error count:  111\n"
     ]
    }
   ],
   "source": [
    "naive_errors = len(errors)\n",
    "print(\"Error count: \", naive_errors)"
   ]
  },
  {
   "cell_type": "markdown",
   "metadata": {},
   "source": [
    "<h3>Decision Tree Classifier</h3>"
   ]
  },
  {
   "cell_type": "markdown",
   "metadata": {},
   "source": [
    "Applying the decision tree classifier to find the accuracy"
   ]
  },
  {
   "cell_type": "code",
   "execution_count": 27,
   "metadata": {},
   "outputs": [],
   "source": [
    "classifier_tree = nltk.DecisionTreeClassifier.train(train_set_fe)"
   ]
  },
  {
   "cell_type": "markdown",
   "metadata": {},
   "source": [
    "<h4>Calculate Metrics</h4>"
   ]
  },
  {
   "cell_type": "code",
   "execution_count": 28,
   "metadata": {},
   "outputs": [
    {
     "name": "stdout",
     "output_type": "stream",
     "text": [
      "---------Decision Tree Classifier Metrics---------\n",
      "       Accuracy  Precision    Recall  F_Measure\n",
      "Train  0.934476   0.497815  0.500000   0.495570\n",
      "Test   0.740000   0.407371  0.500000   0.446304\n",
      "Dev    0.778000   0.616338  0.783451   0.686486\n"
     ]
    }
   ],
   "source": [
    "refsets = collections.defaultdict(set)\n",
    "testsets = collections.defaultdict(set)\n",
    " \n",
    "for i, (feats, label) in enumerate(train_set_fe):\n",
    "    refsets[label].add(i)\n",
    "    observed = classifier_tree.classify(feats)\n",
    "    testsets[observed].add(i)\n",
    "\n",
    "accuracy_train_dt = nltk.classify.accuracy(classifier_tree, train_set_fe)\n",
    "avg_precision_train_dt = (precision(refsets['male'], testsets['male'])+precision(refsets['male'], testsets['female']))/2\n",
    "avg_recall_train_dt = (recall(refsets['male'], testsets['male'])+recall(refsets['male'], testsets['female']))/2\n",
    "avg_f_measure_train_dt = (f_measure(refsets['male'], testsets['male'])+f_measure(refsets['male'], testsets['female']))/2\n",
    "\n",
    "\n",
    "refsets = collections.defaultdict(set)\n",
    "testsets = collections.defaultdict(set)\n",
    " \n",
    "for i, (feats, label) in enumerate(test_set_fe):\n",
    "    refsets[label].add(i)\n",
    "    observed = classifier_tree.classify(feats)\n",
    "    testsets[observed].add(i)\n",
    "\n",
    "accuracy_test_dt = nltk.classify.accuracy(classifier_tree, test_set_fe)\n",
    "avg_precision_test_dt = (precision(refsets['male'], testsets['male'])+precision(refsets['male'], testsets['female']))/2\n",
    "avg_recall_test_dt = (recall(refsets['male'], testsets['male'])+recall(refsets['male'], testsets['female']))/2\n",
    "avg_f_measure_test_dt = (f_measure(refsets['male'], testsets['male'])+f_measure(refsets['male'], testsets['female']))/2\n",
    "\n",
    "\n",
    "for i, (feats, label) in enumerate(devtest_set_fe):\n",
    "    refsets[label].add(i)\n",
    "    observed = classifier_tree.classify(feats)\n",
    "    testsets[observed].add(i)\n",
    "\n",
    "accuracy_dev_dt = nltk.classify.accuracy(classifier, devtest_set_fe)\n",
    "avg_precision_dev_dt = (precision(refsets['male'], testsets['male'])+precision(refsets['male'], testsets['female']))/2\n",
    "avg_recall_dev_dt = (recall(refsets['male'], testsets['male'])+recall(refsets['male'], testsets['female']))/2\n",
    "avg_f_measure_dev_dt = (f_measure(refsets['male'], testsets['male'])+f_measure(refsets['male'], testsets['female']))/2\n",
    "\n",
    "accuracy_dt_final = [accuracy_train_dt,accuracy_test_dt,accuracy_dev_dt]\n",
    "precision_dt_final = [avg_precision_train_dt,avg_precision_test_dt,avg_precision_dev_dt]\n",
    "recall_dt_final = [avg_recall_train_dt,avg_recall_test_dt,avg_recall_dev_dt]\n",
    "f_measure_dt_final = [avg_f_measure_train_dt,avg_f_measure_test_dt,avg_f_measure_dev_dt]\n",
    "\n",
    "dt_final_train = [accuracy_train_dt,avg_precision_train_dt,avg_recall_train_dt,avg_f_measure_train_dt]\n",
    "dt_final_test = [accuracy_test_dt,avg_precision_test_dt,avg_recall_test_dt,avg_f_measure_test_dt]\n",
    "dt_final_dev = [accuracy_dev_dt,avg_precision_dev_dt,avg_recall_dev_dt,avg_f_measure_dev_dt]\n",
    "dt_combined = {'Accuracy':accuracy_dt_final,'Precision':precision_dt_final,'Recall':recall_dt_final,'F_Measure':f_measure_dt_final}\n",
    "df_dt = pd.DataFrame(dt_combined,index=['Train','Test','Dev'],columns=['Accuracy','Precision','Recall','F_Measure'])\n",
    "\n",
    "print(\"---------Decision Tree Classifier Metrics---------\")\n",
    "print(df_dt)"
   ]
  },
  {
   "cell_type": "markdown",
   "metadata": {},
   "source": [
    "<h4>Compare with dev test data for error rate - DT</h4>"
   ]
  },
  {
   "cell_type": "code",
   "execution_count": 29,
   "metadata": {},
   "outputs": [],
   "source": [
    "errors2 = []\n",
    "for (name, tag) in devtest_set:\n",
    "    guess = classifier_tree.classify(gender_features(name))\n",
    "    if guess != tag:\n",
    "        errors2.append( (tag, guess, name) )"
   ]
  },
  {
   "cell_type": "code",
   "execution_count": 30,
   "metadata": {},
   "outputs": [
    {
     "name": "stdout",
     "output_type": "stream",
     "text": [
      "correct=female   guess=male     name=Aurore                        \n",
      "correct=female   guess=male     name=Austin                        \n",
      "correct=female   guess=male     name=Barbe                         \n",
      "correct=female   guess=male     name=Barby                         \n",
      "correct=female   guess=male     name=Bebe                          \n",
      "correct=female   guess=male     name=Bird                          \n",
      "correct=female   guess=male     name=Birgit                        \n",
      "correct=female   guess=male     name=Bunnie                        \n",
      "correct=female   guess=male     name=Cameo                         \n",
      "correct=female   guess=male     name=Caron                         \n",
      "correct=female   guess=male     name=Clemmy                        \n",
      "correct=female   guess=male     name=Cloris                        \n",
      "correct=female   guess=male     name=Coleen                        \n",
      "correct=female   guess=male     name=Colleen                       \n",
      "correct=female   guess=male     name=Corliss                       \n",
      "correct=female   guess=male     name=Cybill                        \n",
      "correct=female   guess=male     name=Cynthy                        \n",
      "correct=female   guess=male     name=Debor                         \n",
      "correct=female   guess=male     name=Devon                         \n",
      "correct=female   guess=male     name=Dian                          \n",
      "correct=female   guess=male     name=Dorian                        \n",
      "correct=female   guess=male     name=Dory                          \n",
      "correct=female   guess=male     name=Eddy                          \n",
      "correct=female   guess=male     name=Eden                          \n",
      "correct=female   guess=male     name=Elonore                       \n",
      "correct=female   guess=male     name=Gabriel                       \n",
      "correct=female   guess=male     name=Gabriell                      \n",
      "correct=female   guess=male     name=Gilly                         \n",
      "correct=female   guess=male     name=Gretchen                      \n",
      "correct=female   guess=male     name=Hally                         \n",
      "correct=female   guess=male     name=Harriet                       \n",
      "correct=female   guess=male     name=Hildy                         \n",
      "correct=female   guess=male     name=Jean                          \n",
      "correct=female   guess=male     name=Joell                         \n",
      "correct=female   guess=male     name=Kipp                          \n",
      "correct=female   guess=male     name=Lauren                        \n",
      "correct=female   guess=male     name=Manon                         \n",
      "correct=female   guess=male     name=Marlo                         \n",
      "correct=female   guess=male     name=Megan                         \n",
      "correct=female   guess=male     name=Michell                       \n",
      "correct=female   guess=male     name=Milicent                      \n",
      "correct=female   guess=male     name=Monah                         \n",
      "correct=female   guess=male     name=Nike                          \n",
      "correct=female   guess=male     name=Noel                          \n",
      "correct=female   guess=male     name=Noreen                        \n",
      "correct=female   guess=male     name=Pegeen                        \n",
      "correct=female   guess=male     name=Phillis                       \n",
      "correct=female   guess=male     name=Piper                         \n",
      "correct=female   guess=male     name=Prudy                         \n",
      "correct=female   guess=male     name=Robbyn                        \n",
      "correct=female   guess=male     name=Rory                          \n",
      "correct=female   guess=male     name=Rosario                       \n",
      "correct=female   guess=male     name=Roselin                       \n",
      "correct=female   guess=male     name=Roze                          \n",
      "correct=female   guess=male     name=Sal                           \n",
      "correct=female   guess=male     name=Sammy                         \n",
      "correct=female   guess=male     name=Sandy                         \n",
      "correct=female   guess=male     name=Scarlet                       \n",
      "correct=female   guess=male     name=Shanon                        \n",
      "correct=female   guess=male     name=Shay                          \n",
      "correct=female   guess=male     name=Shell                         \n",
      "correct=female   guess=male     name=Sher                          \n",
      "correct=female   guess=male     name=Stormie                       \n",
      "correct=female   guess=male     name=Sue                           \n",
      "correct=female   guess=male     name=Tabby                         \n",
      "correct=female   guess=male     name=Theo                          \n",
      "correct=female   guess=male     name=Tiff                          \n",
      "correct=female   guess=male     name=Toby                          \n",
      "correct=female   guess=male     name=Torie                         \n",
      "correct=female   guess=male     name=Trix                          \n",
      "correct=female   guess=male     name=Wileen                        \n",
      "correct=female   guess=male     name=Willie                        \n",
      "correct=female   guess=male     name=Yetty                         \n",
      "correct=male     guess=female   name=Abbie                         \n",
      "correct=male     guess=female   name=Adrian                        \n",
      "correct=male     guess=female   name=Alastair                      \n",
      "correct=male     guess=female   name=Aldis                         \n",
      "correct=male     guess=female   name=Andre                         \n",
      "correct=male     guess=female   name=Bealle                        \n",
      "correct=male     guess=female   name=Blaine                        \n",
      "correct=male     guess=female   name=Chrissy                       \n",
      "correct=male     guess=female   name=Craig                         \n",
      "correct=male     guess=female   name=Darren                        \n",
      "correct=male     guess=female   name=Dewey                         \n",
      "correct=male     guess=female   name=Dmitri                        \n",
      "correct=male     guess=female   name=Emile                         \n",
      "correct=male     guess=female   name=Evelyn                        \n",
      "correct=male     guess=female   name=Felipe                        \n",
      "correct=male     guess=female   name=Flinn                         \n",
      "correct=male     guess=female   name=Georgia                       \n",
      "correct=male     guess=female   name=Glenn                         \n",
      "correct=male     guess=female   name=Ivan                          \n",
      "correct=male     guess=female   name=Jamie                         \n",
      "correct=male     guess=female   name=Jedediah                      \n",
      "correct=male     guess=female   name=Jefferey                      \n",
      "correct=male     guess=female   name=Jessee                        \n",
      "correct=male     guess=female   name=Jodie                         \n",
      "correct=male     guess=female   name=Lindsay                       \n",
      "correct=male     guess=female   name=Lorrie                        \n",
      "correct=male     guess=female   name=Lynn                          \n",
      "correct=male     guess=female   name=Micky                         \n",
      "correct=male     guess=female   name=Partha                        \n",
      "correct=male     guess=female   name=Pepe                          \n",
      "correct=male     guess=female   name=Perceval                      \n",
      "correct=male     guess=female   name=Rabi                          \n",
      "correct=male     guess=female   name=Sayre                         \n",
      "correct=male     guess=female   name=Stearne                       \n",
      "correct=male     guess=female   name=Tammie                        \n",
      "correct=male     guess=female   name=Terri                         \n",
      "correct=male     guess=female   name=Tremayne                      \n",
      "correct=male     guess=female   name=Waite                         \n"
     ]
    }
   ],
   "source": [
    "for (tag, guess, name) in sorted(errors): # doctest: +ELLIPSIS +NORMALIZE_WHITESPACE\n",
    "    print('correct=%-8s guess=%-8s name=%-30s' % (tag, guess, name))"
   ]
  },
  {
   "cell_type": "markdown",
   "metadata": {},
   "source": [
    "<h4>Result of Unmatched Error Count - DT</h4>"
   ]
  },
  {
   "cell_type": "code",
   "execution_count": 31,
   "metadata": {},
   "outputs": [
    {
     "name": "stdout",
     "output_type": "stream",
     "text": [
      "Error count:  132\n"
     ]
    }
   ],
   "source": [
    "dt_errors = len(errors2)\n",
    "print(\"Error count: \", dt_errors)"
   ]
  },
  {
   "cell_type": "markdown",
   "metadata": {},
   "source": [
    "<h3>Classifier Comparison Charts</h3>"
   ]
  },
  {
   "cell_type": "code",
   "execution_count": 32,
   "metadata": {},
   "outputs": [
    {
     "data": {
      "image/png": "[encoded data removed]",
      "text/plain": [
       "<Figure size 432x288 with 1 Axes>"
      ]
     },
     "metadata": {
      "needs_background": "light"
     },
     "output_type": "display_data"
    },
    {
     "data": {
      "image/png": "[encoded data removed]",
      "text/plain": [
       "<Figure size 432x288 with 1 Axes>"
      ]
     },
     "metadata": {
      "needs_background": "light"
     },
     "output_type": "display_data"
    },
    {
     "data": {
      "image/png": "[encoded data removed]",
      "text/plain": [
       "<Figure size 432x288 with 1 Axes>"
      ]
     },
     "metadata": {
      "needs_background": "light"
     },
     "output_type": "display_data"
    },
    {
     "data": {
      "image/png": "[encoded data removed]",
      "text/plain": [
       "<Figure size 432x288 with 1 Axes>"
      ]
     },
     "metadata": {
      "needs_background": "light"
     },
     "output_type": "display_data"
    }
   ],
   "source": [
    "n_groups = 4\n",
    "fig, ax = plt.subplots()\n",
    "index = np.arange(n_groups)\n",
    "bar_width = 0.15\n",
    "opacity = 0.8\n",
    "\n",
    "rects1 = plt.bar(index, naive_final_train, bar_width,\n",
    "alpha=opacity,\n",
    "color='b',\n",
    "label='Naive')\n",
    "\n",
    "rects2 = plt.bar(index + bar_width, dt_final_train, bar_width,\n",
    "alpha=opacity,\n",
    "color='r',\n",
    "label='Decision Tree')\n",
    "\n",
    "plt.xlabel('Metrics')\n",
    "plt.ylabel('Scores')\n",
    "plt.title('Training Sets - Naive Vs Decision')\n",
    "plt.xticks(index + bar_width, ('Accuracy', 'Precision', 'Recall', 'F_Measure'))\n",
    "plt.legend()\n",
    "\n",
    "plt.tight_layout()\n",
    "plt.show()\n",
    "\n",
    "n_groups = 4\n",
    "fig, ax = plt.subplots()\n",
    "index = np.arange(n_groups)\n",
    "bar_width = 0.15\n",
    "opacity = 0.8\n",
    "\n",
    "rects1 = plt.bar(index, naive_final_test, bar_width,\n",
    "alpha=opacity,\n",
    "color='g',\n",
    "label='Naive')\n",
    "\n",
    "rects2 = plt.bar(index + bar_width, dt_final_test, bar_width,\n",
    "alpha=opacity,\n",
    "color='c',\n",
    "label='Decision Tree')\n",
    "\n",
    "plt.xlabel('Metrics')\n",
    "plt.ylabel('Scores')\n",
    "plt.title('Test Sets - Naive Vs Decision')\n",
    "plt.xticks(index + bar_width, ('Accuracy', 'Precision', 'Recall', 'F_Measure'))\n",
    "plt.legend()\n",
    "\n",
    "plt.tight_layout()\n",
    "plt.show()\n",
    "\n",
    "n_groups = 4\n",
    "fig, ax = plt.subplots()\n",
    "index = np.arange(n_groups)\n",
    "bar_width = 0.15\n",
    "opacity = 0.8\n",
    "\n",
    "rects1 = plt.bar(index, naive_final_dev, bar_width,\n",
    "alpha=opacity,\n",
    "color='y',\n",
    "label='Naive')\n",
    "\n",
    "rects2 = plt.bar(index + bar_width, dt_final_dev, bar_width,\n",
    "alpha=opacity,\n",
    "color='k',\n",
    "label='Decision Tree')\n",
    "\n",
    "plt.xlabel('Metrics')\n",
    "plt.ylabel('Scores')\n",
    "plt.title('Dev Sets - Naive Vs Decision')\n",
    "plt.xticks(index + bar_width, ('Accuracy', 'Precision', 'Recall', 'F_Measure'))\n",
    "plt.legend()\n",
    "\n",
    "plt.tight_layout()\n",
    "plt.show()\n",
    "\n",
    "n_groups = 1\n",
    "fig, ax = plt.subplots()\n",
    "index = np.arange(n_groups)\n",
    "bar_width = 0.05\n",
    "opacity = 0.8\n",
    "\n",
    "rects1 = plt.bar(index, naive_errors, bar_width,\n",
    "alpha=opacity,\n",
    "color='m',\n",
    "label='Naive')\n",
    "\n",
    "rects2 = plt.bar(index + bar_width, dt_errors, bar_width,\n",
    "alpha=opacity,\n",
    "color='b',\n",
    "label='Decision Tree')\n",
    "\n",
    "plt.xlabel('Metrics')\n",
    "plt.ylabel('Scores')\n",
    "plt.title('Error Count - Naive Vs Decision')\n",
    "plt.xticks(index + bar_width, ('Error Count'))\n",
    "plt.legend()\n",
    "\n",
    "plt.tight_layout()\n",
    "plt.show()\n"
   ]
  },
  {
   "cell_type": "markdown",
   "metadata": {},
   "source": [
    "<h3>Conclusion</h3>\n",
    "\n",
    "<h4>How does the performance on the test set compare to the performance on the dev-test set? Is this what you'd expect?</h4>\n",
    "\n",
    "\n"
   ]
  },
  {
   "cell_type": "markdown",
   "metadata": {},
   "source": [
    "The training accuracy of Decision Tree model better than Naive Bayer, however it resulted much unmatched error count count than Naive Bayer model, on average considering the accuracy of the three different data sets and matched prediction, Naive Baiyer outperfomed Decision Tree model"
   ]
  }
 ],
 "metadata": {
  "kernelspec": {
   "display_name": "Python 3",
   "language": "python",
   "name": "python3"
  },
  "language_info": {
   "codemirror_mode": {
    "name": "ipython",
    "version": 3
   },
   "file_extension": ".py",
   "mimetype": "text/x-python",
   "name": "python",
   "nbconvert_exporter": "python",
   "pygments_lexer": "ipython3",
   "version": "3.7.4"
  }
 },
 "nbformat": 4,
 "nbformat_minor": 2
}
