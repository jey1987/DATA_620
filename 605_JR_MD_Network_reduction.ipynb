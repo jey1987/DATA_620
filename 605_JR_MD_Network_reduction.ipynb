{
 "cells": [
  {
   "cell_type": "markdown",
   "metadata": {},
   "source": [
    "<h2>DATA 620 - Week 7 - Network Reduction Island Method</h2>\n",
    "\n",
    "<h3>Mohamed Thasleem, Kalikul Zaman</h3>\n",
    "<h3>Jeyaraman, Ramalingam</h3>\n",
    "\n",
    "<h3>Introduction</h3>\n",
    " \n",
    "As per OReily Chapter 4 Methods We have identified a dataset which has three components. The Data source is the list of Athletes who interact among themeselves. The data has interactions of Athletes from three countries. We will consider the component with high degree and reduce the component into multiple subgraphs to find out threshold.\n",
    "\n"
   ]
  },
  {
   "cell_type": "code",
   "execution_count": 18,
   "metadata": {},
   "outputs": [],
   "source": [
    "#import libraries\n",
    "import matplotlib.pyplot as plt\n",
    "import networkx as nx\n",
    "import pandas as pd"
   ]
  },
  {
   "cell_type": "markdown",
   "metadata": {},
   "source": [
    "<h3>Defining Functions for Island reduction method</h3>"
   ]
  },
  {
   "cell_type": "code",
   "execution_count": 19,
   "metadata": {},
   "outputs": [],
   "source": [
    "#function to trim edges\n",
    "def trim_edges(g, weight=1):\n",
    "        g2=nx.Graph()\n",
    "        for f, to, edata in g.edges(data=True):\n",
    "                if edata['weight'] > weight:\n",
    "                        g2.add_edge(f,to,weight=int(edata['weight']))\n",
    "        return g2"
   ]
  },
  {
   "cell_type": "code",
   "execution_count": 20,
   "metadata": {},
   "outputs": [],
   "source": [
    "#function for island method\n",
    "def island_method(g, iterations=20):\n",
    "    weights= [edata['weight'] for f,to,edata in g.edges(data=True)]\n",
    "    #print(weights)\n",
    "    mn=int(min(weights))\n",
    "    mx=int(max(weights))\n",
    "    #compute the size of the step, so we get a reasonable step in iterations\n",
    "    step=int((mx-mn)/iterations)\n",
    "    return [[threshold, trim_edges(g, threshold)] for threshold in range(mn,mx,step)]"
   ]
  },
  {
   "cell_type": "markdown",
   "metadata": {},
   "source": [
    "<h3>Data Source</h3>"
   ]
  },
  {
   "cell_type": "code",
   "execution_count": 21,
   "metadata": {},
   "outputs": [],
   "source": [
    "data=pd.read_csv(\"game.csv\", error_bad_lines=False)"
   ]
  },
  {
   "cell_type": "code",
   "execution_count": 22,
   "metadata": {},
   "outputs": [
    {
     "data": {
      "text/html": [
       "<div>\n",
       "<style scoped>\n",
       "    .dataframe tbody tr th:only-of-type {\n",
       "        vertical-align: middle;\n",
       "    }\n",
       "\n",
       "    .dataframe tbody tr th {\n",
       "        vertical-align: top;\n",
       "    }\n",
       "\n",
       "    .dataframe thead th {\n",
       "        text-align: right;\n",
       "    }\n",
       "</style>\n",
       "<table border=\"1\" class=\"dataframe\">\n",
       "  <thead>\n",
       "    <tr style=\"text-align: right;\">\n",
       "      <th></th>\n",
       "      <th>node_1</th>\n",
       "      <th>node_2</th>\n",
       "      <th>weight</th>\n",
       "    </tr>\n",
       "  </thead>\n",
       "  <tbody>\n",
       "    <tr>\n",
       "      <td>252</td>\n",
       "      <td>Need for Speed: Most Wanted</td>\n",
       "      <td>PS2</td>\n",
       "      <td>2.03</td>\n",
       "    </tr>\n",
       "    <tr>\n",
       "      <td>498</td>\n",
       "      <td>Need for Speed: Most Wanted</td>\n",
       "      <td>PS3</td>\n",
       "      <td>0.71</td>\n",
       "    </tr>\n",
       "    <tr>\n",
       "      <td>1173</td>\n",
       "      <td>Need for Speed: Most Wanted</td>\n",
       "      <td>X360</td>\n",
       "      <td>0.62</td>\n",
       "    </tr>\n",
       "    <tr>\n",
       "      <td>1530</td>\n",
       "      <td>Need for Speed: Most Wanted</td>\n",
       "      <td>X360</td>\n",
       "      <td>1.00</td>\n",
       "    </tr>\n",
       "    <tr>\n",
       "      <td>1742</td>\n",
       "      <td>Need for Speed: Most Wanted</td>\n",
       "      <td>PSV</td>\n",
       "      <td>0.38</td>\n",
       "    </tr>\n",
       "    <tr>\n",
       "      <td>2005</td>\n",
       "      <td>Need for Speed: Most Wanted</td>\n",
       "      <td>XB</td>\n",
       "      <td>0.53</td>\n",
       "    </tr>\n",
       "    <tr>\n",
       "      <td>3585</td>\n",
       "      <td>Need for Speed: Most Wanted</td>\n",
       "      <td>GC</td>\n",
       "      <td>0.43</td>\n",
       "    </tr>\n",
       "    <tr>\n",
       "      <td>5900</td>\n",
       "      <td>Need for Speed: Most Wanted</td>\n",
       "      <td>PC</td>\n",
       "      <td>0.02</td>\n",
       "    </tr>\n",
       "    <tr>\n",
       "      <td>6149</td>\n",
       "      <td>Need for Speed: Most Wanted</td>\n",
       "      <td>WiiU</td>\n",
       "      <td>0.14</td>\n",
       "    </tr>\n",
       "    <tr>\n",
       "      <td>6278</td>\n",
       "      <td>Need for Speed: Most Wanted</td>\n",
       "      <td>DS</td>\n",
       "      <td>0.24</td>\n",
       "    </tr>\n",
       "    <tr>\n",
       "      <td>6492</td>\n",
       "      <td>Need for Speed: Most Wanted</td>\n",
       "      <td>GBA</td>\n",
       "      <td>0.19</td>\n",
       "    </tr>\n",
       "    <tr>\n",
       "      <td>11676</td>\n",
       "      <td>Need for Speed: Most Wanted</td>\n",
       "      <td>PC</td>\n",
       "      <td>0.00</td>\n",
       "    </tr>\n",
       "  </tbody>\n",
       "</table>\n",
       "</div>"
      ],
      "text/plain": [
       "                            node_1 node_2  weight\n",
       "252    Need for Speed: Most Wanted    PS2    2.03\n",
       "498    Need for Speed: Most Wanted    PS3    0.71\n",
       "1173   Need for Speed: Most Wanted   X360    0.62\n",
       "1530   Need for Speed: Most Wanted   X360    1.00\n",
       "1742   Need for Speed: Most Wanted    PSV    0.38\n",
       "2005   Need for Speed: Most Wanted     XB    0.53\n",
       "3585   Need for Speed: Most Wanted     GC    0.43\n",
       "5900   Need for Speed: Most Wanted     PC    0.02\n",
       "6149   Need for Speed: Most Wanted   WiiU    0.14\n",
       "6278   Need for Speed: Most Wanted     DS    0.24\n",
       "6492   Need for Speed: Most Wanted    GBA    0.19\n",
       "11676  Need for Speed: Most Wanted     PC    0.00"
      ]
     },
     "execution_count": 22,
     "metadata": {},
     "output_type": "execute_result"
    }
   ],
   "source": [
    "data1 = data[(data.node_1 == \"Need for Speed: Most Wanted\")]\n",
    "data1"
   ]
  },
  {
   "cell_type": "code",
   "execution_count": 23,
   "metadata": {},
   "outputs": [
    {
     "name": "stdout",
     "output_type": "stream",
     "text": [
      "Name: \n",
      "Type: Graph\n",
      "Number of nodes: 11524\n",
      "Number of edges: 16593\n",
      "Average degree:   2.8797\n"
     ]
    },
    {
     "data": {
      "image/png": "[encoded data removed]",
      "text/plain": [
       "<Figure size 1080x936 with 1 Axes>"
      ]
     },
     "metadata": {},
     "output_type": "display_data"
    }
   ],
   "source": [
    "G = nx.from_pandas_edgelist(data,'node_1','node_2',edge_attr='weight')\n",
    "G1 = nx.from_pandas_edgelist(data1,'node_1','node_2',edge_attr='weight')\n",
    "print(nx.info(G))\n",
    "plt.figure(figsize = (15,13))\n",
    "plt.title(\"Example of Node 0\")\n",
    "nx.draw_networkx(G1, node_color='lightblue')\n",
    "plt.axis('off')\n",
    "plt.show(1)"
   ]
  },
  {
   "cell_type": "markdown",
   "metadata": {},
   "source": [
    "<h3>Calculate the Length of each sub component</h3>"
   ]
  },
  {
   "cell_type": "code",
   "execution_count": 24,
   "metadata": {
    "scrolled": true
   },
   "outputs": [
    {
     "data": {
      "text/plain": [
       "[11506, 7, 3, 4, 2, 2]"
      ]
     },
     "execution_count": 24,
     "metadata": {},
     "output_type": "execute_result"
    }
   ],
   "source": [
    "[len(c) for c in nx.connected_component_subgraphs(G)]"
   ]
  },
  {
   "cell_type": "markdown",
   "metadata": {},
   "source": [
    "<h3>Get the Highest degree component</h3>"
   ]
  },
  {
   "cell_type": "code",
   "execution_count": 25,
   "metadata": {},
   "outputs": [
    {
     "name": "stdout",
     "output_type": "stream",
     "text": [
      "Name: \n",
      "Type: Graph\n",
      "Number of nodes: 11506\n",
      "Number of edges: 16580\n",
      "Average degree:   2.8820\n"
     ]
    }
   ],
   "source": [
    "graphs = list(nx.connected_component_subgraphs(G))[0]\n",
    "print(nx.info(graphs))"
   ]
  },
  {
   "cell_type": "code",
   "execution_count": 26,
   "metadata": {},
   "outputs": [
    {
     "data": {
      "text/html": [
       "<div>\n",
       "<style scoped>\n",
       "    .dataframe tbody tr th:only-of-type {\n",
       "        vertical-align: middle;\n",
       "    }\n",
       "\n",
       "    .dataframe tbody tr th {\n",
       "        vertical-align: top;\n",
       "    }\n",
       "\n",
       "    .dataframe thead th {\n",
       "        text-align: right;\n",
       "    }\n",
       "</style>\n",
       "<table border=\"1\" class=\"dataframe\">\n",
       "  <thead>\n",
       "    <tr style=\"text-align: right;\">\n",
       "      <th></th>\n",
       "      <th>deg_centrality</th>\n",
       "    </tr>\n",
       "  </thead>\n",
       "  <tbody>\n",
       "    <tr>\n",
       "      <td>Wii Sports</td>\n",
       "      <td>0.000087</td>\n",
       "    </tr>\n",
       "    <tr>\n",
       "      <td>Wii</td>\n",
       "      <td>0.115080</td>\n",
       "    </tr>\n",
       "    <tr>\n",
       "      <td>Super Mario Bros.</td>\n",
       "      <td>0.000174</td>\n",
       "    </tr>\n",
       "    <tr>\n",
       "      <td>NES</td>\n",
       "      <td>0.008518</td>\n",
       "    </tr>\n",
       "    <tr>\n",
       "      <td>Mario Kart Wii</td>\n",
       "      <td>0.000087</td>\n",
       "    </tr>\n",
       "  </tbody>\n",
       "</table>\n",
       "</div>"
      ],
      "text/plain": [
       "                   deg_centrality\n",
       "Wii Sports               0.000087\n",
       "Wii                      0.115080\n",
       "Super Mario Bros.        0.000174\n",
       "NES                      0.008518\n",
       "Mario Kart Wii           0.000087"
      ]
     },
     "execution_count": 26,
     "metadata": {},
     "output_type": "execute_result"
    }
   ],
   "source": [
    "cf = pd.DataFrame()\n",
    "cf['deg_centrality'] = nx.degree_centrality(graphs).values()\n",
    "cf.index = list(graphs)\n",
    "cf.sort_values(by=['deg_centrality'], ascending=False)\n",
    "cf.head()"
   ]
  },
  {
   "cell_type": "markdown",
   "metadata": {},
   "source": [
    "<h3>Call Island Method to get threshold values</h3>"
   ]
  },
  {
   "cell_type": "code",
   "execution_count": 27,
   "metadata": {},
   "outputs": [],
   "source": [
    "islands = []\n",
    "islands=island_method(graphs)"
   ]
  },
  {
   "cell_type": "markdown",
   "metadata": {},
   "source": [
    "<h3>Display the Threshold value</h3> "
   ]
  },
  {
   "cell_type": "code",
   "execution_count": 28,
   "metadata": {},
   "outputs": [
    {
     "name": "stdout",
     "output_type": "stream",
     "text": [
      "0 7877 7873\n",
      "2 296 191\n",
      "4 98 13\n",
      "6 54 11\n",
      "8 33 8\n",
      "10 19 6\n",
      "12 15 6\n",
      "14 13 6\n",
      "16 7 2\n",
      "18 7 2\n",
      "20 7 2\n",
      "22 7 2\n",
      "24 5 2\n",
      "26 5 2\n",
      "28 4 2\n",
      "30 2 2\n",
      "32 2 2\n",
      "34 2 2\n",
      "36 2 2\n",
      "38 2 2\n",
      "40 2 2\n"
     ]
    }
   ],
   "source": [
    "for i in islands:\n",
    "    print(i[0], len(i[1]), len(list(nx.connected_component_subgraphs(i[1]))[0]))"
   ]
  },
  {
   "cell_type": "markdown",
   "metadata": {},
   "source": [
    "<h3>Insights</h3>\n",
    "\n",
    "Based on the above output, we can have 40 as the threshold value for the weight as most of nodes are preserved. It looks like the ideal threshold value."
   ]
  }
 ],
 "metadata": {
  "kernelspec": {
   "display_name": "Python 3",
   "language": "python",
   "name": "python3"
  },
  "language_info": {
   "codemirror_mode": {
    "name": "ipython",
    "version": 3
   },
   "file_extension": ".py",
   "mimetype": "text/x-python",
   "name": "python",
   "nbconvert_exporter": "python",
   "pygments_lexer": "ipython3",
   "version": "3.7.4"
  }
 },
 "nbformat": 4,
 "nbformat_minor": 2
}
